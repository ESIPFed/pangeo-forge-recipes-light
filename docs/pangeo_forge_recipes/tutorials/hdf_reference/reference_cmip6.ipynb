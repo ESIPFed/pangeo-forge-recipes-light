{
 "cells": [
  {
   "attachments": {},
   "cell_type": "markdown",
   "id": "49caf2b2",
   "metadata": {},
   "source": [
    "# HDF Reference Recipe for CMIP6\n",
    "\n",
    "This example illustrates how to create a Reference Recipe using CMIP6 data.\n",
    "This recipe does not actually copy the original source data.\n",
    "Instead, it generates metadata files which reference and index the original data, allowing it to be accessed more efficiently. It does this by using the Python library, [Kerchunk](https://fsspec.github.io/kerchunk/) under the hood. Pangeo-Forge is acting as a runner for Kerchunk to generate reference files. \n",
    "\n",
    "As the input for this recipe, we will use some CMIP6 NetCDF4 files provided by ESGF and stored in Amazon S3 ([CMIP6 AWS Open Data Page](https://registry.opendata.aws/cmip6/)).\n",
    "Many CMIP6 simulations spread their outputs over many HDF5/ NetCDF4 files, in order to limit the individual file size.\n",
    "This can be inconvenient for analysis.\n",
    "In this recipe, we will see how to virtually concatenate many HDF5 files into one big virtual Zarr dataset."
   ]
  },
  {
   "cell_type": "markdown",
   "id": "941f9855",
   "metadata": {},
   "source": [
    "## Define the FilePattern\n",
    "\n",
    "Let's pick a random dataset: ocean model output from the GFDL ocean model from the [OMIP](https://www.wcrp-climate.org/modelling-wgcm-mip-catalogue/cmip6-endorsed-mips-article/1063-modelling-cmip6-omip) experiments."
   ]
  },
  {
   "cell_type": "code",
   "execution_count": null,
   "id": "965272cf",
   "metadata": {},
   "outputs": [],
   "source": [
    "import s3fs\n",
    "fs = s3fs.S3FileSystem(anon=True)\n",
    "base_path = 's3://esgf-world/CMIP6/OMIP/NOAA-GFDL/GFDL-CM4/omip1/r1i1p1f1/Omon/thetao/gr/v20180701/'\n",
    "all_paths = fs.ls(base_path)\n",
    "all_paths"
   ]
  },
  {
   "cell_type": "markdown",
   "id": "ba062f69-5c31-44e9-a252-6b55e292b4e5",
   "metadata": {},
   "source": [
    "We see there are 15 individual NetCDF files. Let's time how long it takes to open and display one of them using Xarray.\n",
    "\n",
    "```{note}\n",
    "The argument `decode_coords='all'` helps Xarray promote all of the `_bnds` variables to coordinates (rather than data variables).\n",
    "```"
   ]
  },
  {
   "cell_type": "code",
   "execution_count": null,
   "id": "64ce8337-8984-43b5-bc01-33c531bb21cd",
   "metadata": {},
   "outputs": [],
   "source": [
    "import xarray as xr"
   ]
  },
  {
   "cell_type": "code",
   "execution_count": 3,
   "id": "6143ffb9",
   "metadata": {},
   "outputs": [
    {
     "ename": "KeyboardInterrupt",
     "evalue": "",
     "output_type": "error",
     "traceback": [
      "\u001b[0;31m---------------------------------------------------------------------------\u001b[0m",
      "\u001b[0;31mKeyboardInterrupt\u001b[0m                         Traceback (most recent call last)",
      "File \u001b[0;32m<timed exec>:1\u001b[0m\n",
      "File \u001b[0;32m~/opt/anaconda3/envs/install/envs/pangeo-forge-recipes/lib/python3.9/site-packages/xarray/backends/api.py:541\u001b[0m, in \u001b[0;36mopen_dataset\u001b[0;34m(filename_or_obj, engine, chunks, cache, decode_cf, mask_and_scale, decode_times, decode_timedelta, use_cftime, concat_characters, decode_coords, drop_variables, inline_array, backend_kwargs, **kwargs)\u001b[0m\n\u001b[1;32m    529\u001b[0m decoders \u001b[39m=\u001b[39m _resolve_decoders_kwargs(\n\u001b[1;32m    530\u001b[0m     decode_cf,\n\u001b[1;32m    531\u001b[0m     open_backend_dataset_parameters\u001b[39m=\u001b[39mbackend\u001b[39m.\u001b[39mopen_dataset_parameters,\n\u001b[0;32m   (...)\u001b[0m\n\u001b[1;32m    537\u001b[0m     decode_coords\u001b[39m=\u001b[39mdecode_coords,\n\u001b[1;32m    538\u001b[0m )\n\u001b[1;32m    540\u001b[0m overwrite_encoded_chunks \u001b[39m=\u001b[39m kwargs\u001b[39m.\u001b[39mpop(\u001b[39m\"\u001b[39m\u001b[39moverwrite_encoded_chunks\u001b[39m\u001b[39m\"\u001b[39m, \u001b[39mNone\u001b[39;00m)\n\u001b[0;32m--> 541\u001b[0m backend_ds \u001b[39m=\u001b[39m backend\u001b[39m.\u001b[39;49mopen_dataset(\n\u001b[1;32m    542\u001b[0m     filename_or_obj,\n\u001b[1;32m    543\u001b[0m     drop_variables\u001b[39m=\u001b[39;49mdrop_variables,\n\u001b[1;32m    544\u001b[0m     \u001b[39m*\u001b[39;49m\u001b[39m*\u001b[39;49mdecoders,\n\u001b[1;32m    545\u001b[0m     \u001b[39m*\u001b[39;49m\u001b[39m*\u001b[39;49mkwargs,\n\u001b[1;32m    546\u001b[0m )\n\u001b[1;32m    547\u001b[0m ds \u001b[39m=\u001b[39m _dataset_from_backend_dataset(\n\u001b[1;32m    548\u001b[0m     backend_ds,\n\u001b[1;32m    549\u001b[0m     filename_or_obj,\n\u001b[0;32m   (...)\u001b[0m\n\u001b[1;32m    557\u001b[0m     \u001b[39m*\u001b[39m\u001b[39m*\u001b[39mkwargs,\n\u001b[1;32m    558\u001b[0m )\n\u001b[1;32m    559\u001b[0m \u001b[39mreturn\u001b[39;00m ds\n",
      "File \u001b[0;32m~/opt/anaconda3/envs/install/envs/pangeo-forge-recipes/lib/python3.9/site-packages/xarray/backends/h5netcdf_.py:419\u001b[0m, in \u001b[0;36mH5netcdfBackendEntrypoint.open_dataset\u001b[0;34m(self, filename_or_obj, mask_and_scale, decode_times, concat_characters, decode_coords, drop_variables, use_cftime, decode_timedelta, format, group, lock, invalid_netcdf, phony_dims, decode_vlen_strings)\u001b[0m\n\u001b[1;32m    407\u001b[0m store \u001b[39m=\u001b[39m H5NetCDFStore\u001b[39m.\u001b[39mopen(\n\u001b[1;32m    408\u001b[0m     filename_or_obj,\n\u001b[1;32m    409\u001b[0m     \u001b[39mformat\u001b[39m\u001b[39m=\u001b[39m\u001b[39mformat\u001b[39m,\n\u001b[0;32m   (...)\u001b[0m\n\u001b[1;32m    414\u001b[0m     decode_vlen_strings\u001b[39m=\u001b[39mdecode_vlen_strings,\n\u001b[1;32m    415\u001b[0m )\n\u001b[1;32m    417\u001b[0m store_entrypoint \u001b[39m=\u001b[39m StoreBackendEntrypoint()\n\u001b[0;32m--> 419\u001b[0m ds \u001b[39m=\u001b[39m store_entrypoint\u001b[39m.\u001b[39;49mopen_dataset(\n\u001b[1;32m    420\u001b[0m     store,\n\u001b[1;32m    421\u001b[0m     mask_and_scale\u001b[39m=\u001b[39;49mmask_and_scale,\n\u001b[1;32m    422\u001b[0m     decode_times\u001b[39m=\u001b[39;49mdecode_times,\n\u001b[1;32m    423\u001b[0m     concat_characters\u001b[39m=\u001b[39;49mconcat_characters,\n\u001b[1;32m    424\u001b[0m     decode_coords\u001b[39m=\u001b[39;49mdecode_coords,\n\u001b[1;32m    425\u001b[0m     drop_variables\u001b[39m=\u001b[39;49mdrop_variables,\n\u001b[1;32m    426\u001b[0m     use_cftime\u001b[39m=\u001b[39;49muse_cftime,\n\u001b[1;32m    427\u001b[0m     decode_timedelta\u001b[39m=\u001b[39;49mdecode_timedelta,\n\u001b[1;32m    428\u001b[0m )\n\u001b[1;32m    429\u001b[0m \u001b[39mreturn\u001b[39;00m ds\n",
      "File \u001b[0;32m~/opt/anaconda3/envs/install/envs/pangeo-forge-recipes/lib/python3.9/site-packages/xarray/backends/store.py:35\u001b[0m, in \u001b[0;36mStoreBackendEntrypoint.open_dataset\u001b[0;34m(self, store, mask_and_scale, decode_times, concat_characters, decode_coords, drop_variables, use_cftime, decode_timedelta)\u001b[0m\n\u001b[1;32m     32\u001b[0m \u001b[39mvars\u001b[39m, attrs \u001b[39m=\u001b[39m store\u001b[39m.\u001b[39mload()\n\u001b[1;32m     33\u001b[0m encoding \u001b[39m=\u001b[39m store\u001b[39m.\u001b[39mget_encoding()\n\u001b[0;32m---> 35\u001b[0m \u001b[39mvars\u001b[39m, attrs, coord_names \u001b[39m=\u001b[39m conventions\u001b[39m.\u001b[39;49mdecode_cf_variables(\n\u001b[1;32m     36\u001b[0m     \u001b[39mvars\u001b[39;49m,\n\u001b[1;32m     37\u001b[0m     attrs,\n\u001b[1;32m     38\u001b[0m     mask_and_scale\u001b[39m=\u001b[39;49mmask_and_scale,\n\u001b[1;32m     39\u001b[0m     decode_times\u001b[39m=\u001b[39;49mdecode_times,\n\u001b[1;32m     40\u001b[0m     concat_characters\u001b[39m=\u001b[39;49mconcat_characters,\n\u001b[1;32m     41\u001b[0m     decode_coords\u001b[39m=\u001b[39;49mdecode_coords,\n\u001b[1;32m     42\u001b[0m     drop_variables\u001b[39m=\u001b[39;49mdrop_variables,\n\u001b[1;32m     43\u001b[0m     use_cftime\u001b[39m=\u001b[39;49muse_cftime,\n\u001b[1;32m     44\u001b[0m     decode_timedelta\u001b[39m=\u001b[39;49mdecode_timedelta,\n\u001b[1;32m     45\u001b[0m )\n\u001b[1;32m     47\u001b[0m ds \u001b[39m=\u001b[39m Dataset(\u001b[39mvars\u001b[39m, attrs\u001b[39m=\u001b[39mattrs)\n\u001b[1;32m     48\u001b[0m ds \u001b[39m=\u001b[39m ds\u001b[39m.\u001b[39mset_coords(coord_names\u001b[39m.\u001b[39mintersection(\u001b[39mvars\u001b[39m))\n",
      "File \u001b[0;32m~/opt/anaconda3/envs/install/envs/pangeo-forge-recipes/lib/python3.9/site-packages/xarray/conventions.py:551\u001b[0m, in \u001b[0;36mdecode_cf_variables\u001b[0;34m(variables, attributes, concat_characters, mask_and_scale, decode_times, decode_coords, drop_variables, use_cftime, decode_timedelta)\u001b[0m\n\u001b[1;32m    544\u001b[0m stack_char_dim \u001b[39m=\u001b[39m (\n\u001b[1;32m    545\u001b[0m     concat_characters\n\u001b[1;32m    546\u001b[0m     \u001b[39mand\u001b[39;00m v\u001b[39m.\u001b[39mdtype \u001b[39m==\u001b[39m \u001b[39m\"\u001b[39m\u001b[39mS1\u001b[39m\u001b[39m\"\u001b[39m\n\u001b[1;32m    547\u001b[0m     \u001b[39mand\u001b[39;00m v\u001b[39m.\u001b[39mndim \u001b[39m>\u001b[39m \u001b[39m0\u001b[39m\n\u001b[1;32m    548\u001b[0m     \u001b[39mand\u001b[39;00m stackable(v\u001b[39m.\u001b[39mdims[\u001b[39m-\u001b[39m\u001b[39m1\u001b[39m])\n\u001b[1;32m    549\u001b[0m )\n\u001b[1;32m    550\u001b[0m \u001b[39mtry\u001b[39;00m:\n\u001b[0;32m--> 551\u001b[0m     new_vars[k] \u001b[39m=\u001b[39m decode_cf_variable(\n\u001b[1;32m    552\u001b[0m         k,\n\u001b[1;32m    553\u001b[0m         v,\n\u001b[1;32m    554\u001b[0m         concat_characters\u001b[39m=\u001b[39;49mconcat_characters,\n\u001b[1;32m    555\u001b[0m         mask_and_scale\u001b[39m=\u001b[39;49mmask_and_scale,\n\u001b[1;32m    556\u001b[0m         decode_times\u001b[39m=\u001b[39;49mdecode_times,\n\u001b[1;32m    557\u001b[0m         stack_char_dim\u001b[39m=\u001b[39;49mstack_char_dim,\n\u001b[1;32m    558\u001b[0m         use_cftime\u001b[39m=\u001b[39;49muse_cftime,\n\u001b[1;32m    559\u001b[0m         decode_timedelta\u001b[39m=\u001b[39;49mdecode_timedelta,\n\u001b[1;32m    560\u001b[0m     )\n\u001b[1;32m    561\u001b[0m \u001b[39mexcept\u001b[39;00m \u001b[39mException\u001b[39;00m \u001b[39mas\u001b[39;00m e:\n\u001b[1;32m    562\u001b[0m     \u001b[39mraise\u001b[39;00m \u001b[39mtype\u001b[39m(e)(\u001b[39mf\u001b[39m\u001b[39m\"\u001b[39m\u001b[39mFailed to decode variable \u001b[39m\u001b[39m{\u001b[39;00mk\u001b[39m!r}\u001b[39;00m\u001b[39m: \u001b[39m\u001b[39m{\u001b[39;00me\u001b[39m}\u001b[39;00m\u001b[39m\"\u001b[39m)\n",
      "File \u001b[0;32m~/opt/anaconda3/envs/install/envs/pangeo-forge-recipes/lib/python3.9/site-packages/xarray/conventions.py:397\u001b[0m, in \u001b[0;36mdecode_cf_variable\u001b[0;34m(name, var, concat_characters, mask_and_scale, decode_times, decode_endianness, stack_char_dim, use_cftime, decode_timedelta)\u001b[0m\n\u001b[1;32m    395\u001b[0m     var \u001b[39m=\u001b[39m times\u001b[39m.\u001b[39mCFTimedeltaCoder()\u001b[39m.\u001b[39mdecode(var, name\u001b[39m=\u001b[39mname)\n\u001b[1;32m    396\u001b[0m \u001b[39mif\u001b[39;00m decode_times:\n\u001b[0;32m--> 397\u001b[0m     var \u001b[39m=\u001b[39m times\u001b[39m.\u001b[39;49mCFDatetimeCoder(use_cftime\u001b[39m=\u001b[39;49muse_cftime)\u001b[39m.\u001b[39;49mdecode(var, name\u001b[39m=\u001b[39;49mname)\n\u001b[1;32m    399\u001b[0m dimensions, data, attributes, encoding \u001b[39m=\u001b[39m variables\u001b[39m.\u001b[39munpack_for_decoding(var)\n\u001b[1;32m    400\u001b[0m \u001b[39m# TODO(shoyer): convert everything below to use coders\u001b[39;00m\n",
      "File \u001b[0;32m~/opt/anaconda3/envs/install/envs/pangeo-forge-recipes/lib/python3.9/site-packages/xarray/coding/times.py:716\u001b[0m, in \u001b[0;36mCFDatetimeCoder.decode\u001b[0;34m(self, variable, name)\u001b[0m\n\u001b[1;32m    714\u001b[0m units \u001b[39m=\u001b[39m pop_to(attrs, encoding, \u001b[39m\"\u001b[39m\u001b[39munits\u001b[39m\u001b[39m\"\u001b[39m)\n\u001b[1;32m    715\u001b[0m calendar \u001b[39m=\u001b[39m pop_to(attrs, encoding, \u001b[39m\"\u001b[39m\u001b[39mcalendar\u001b[39m\u001b[39m\"\u001b[39m)\n\u001b[0;32m--> 716\u001b[0m dtype \u001b[39m=\u001b[39m _decode_cf_datetime_dtype(data, units, calendar, \u001b[39mself\u001b[39;49m\u001b[39m.\u001b[39;49muse_cftime)\n\u001b[1;32m    717\u001b[0m transform \u001b[39m=\u001b[39m partial(\n\u001b[1;32m    718\u001b[0m     decode_cf_datetime,\n\u001b[1;32m    719\u001b[0m     units\u001b[39m=\u001b[39munits,\n\u001b[1;32m    720\u001b[0m     calendar\u001b[39m=\u001b[39mcalendar,\n\u001b[1;32m    721\u001b[0m     use_cftime\u001b[39m=\u001b[39m\u001b[39mself\u001b[39m\u001b[39m.\u001b[39muse_cftime,\n\u001b[1;32m    722\u001b[0m )\n\u001b[1;32m    723\u001b[0m data \u001b[39m=\u001b[39m lazy_elemwise_func(data, transform, dtype)\n",
      "File \u001b[0;32m~/opt/anaconda3/envs/install/envs/pangeo-forge-recipes/lib/python3.9/site-packages/xarray/coding/times.py:180\u001b[0m, in \u001b[0;36m_decode_cf_datetime_dtype\u001b[0;34m(data, units, calendar, use_cftime)\u001b[0m\n\u001b[1;32m    172\u001b[0m \u001b[39mdef\u001b[39;00m \u001b[39m_decode_cf_datetime_dtype\u001b[39m(\n\u001b[1;32m    173\u001b[0m     data, units: \u001b[39mstr\u001b[39m, calendar: \u001b[39mstr\u001b[39m, use_cftime: \u001b[39mbool\u001b[39m \u001b[39m|\u001b[39m \u001b[39mNone\u001b[39;00m\n\u001b[1;32m    174\u001b[0m ) \u001b[39m-\u001b[39m\u001b[39m>\u001b[39m np\u001b[39m.\u001b[39mdtype:\n\u001b[1;32m    175\u001b[0m     \u001b[39m# Verify that at least the first and last date can be decoded\u001b[39;00m\n\u001b[1;32m    176\u001b[0m     \u001b[39m# successfully. Otherwise, tracebacks end up swallowed by\u001b[39;00m\n\u001b[1;32m    177\u001b[0m     \u001b[39m# Dataset.__repr__ when users try to view their lazily decoded array.\u001b[39;00m\n\u001b[1;32m    178\u001b[0m     values \u001b[39m=\u001b[39m indexing\u001b[39m.\u001b[39mImplicitToExplicitIndexingAdapter(indexing\u001b[39m.\u001b[39mas_indexable(data))\n\u001b[1;32m    179\u001b[0m     example_value \u001b[39m=\u001b[39m np\u001b[39m.\u001b[39mconcatenate(\n\u001b[0;32m--> 180\u001b[0m         [first_n_items(values, \u001b[39m1\u001b[39;49m) \u001b[39mor\u001b[39;00m [\u001b[39m0\u001b[39m], last_item(values) \u001b[39mor\u001b[39;00m [\u001b[39m0\u001b[39m]]\n\u001b[1;32m    181\u001b[0m     )\n\u001b[1;32m    183\u001b[0m     \u001b[39mtry\u001b[39;00m:\n\u001b[1;32m    184\u001b[0m         result \u001b[39m=\u001b[39m decode_cf_datetime(example_value, units, calendar, use_cftime)\n",
      "File \u001b[0;32m~/opt/anaconda3/envs/install/envs/pangeo-forge-recipes/lib/python3.9/site-packages/xarray/core/formatting.py:77\u001b[0m, in \u001b[0;36mfirst_n_items\u001b[0;34m(array, n_desired)\u001b[0m\n\u001b[1;32m     75\u001b[0m     indexer \u001b[39m=\u001b[39m _get_indexer_at_least_n_items(array\u001b[39m.\u001b[39mshape, n_desired, from_end\u001b[39m=\u001b[39m\u001b[39mFalse\u001b[39;00m)\n\u001b[1;32m     76\u001b[0m     array \u001b[39m=\u001b[39m array[indexer]\n\u001b[0;32m---> 77\u001b[0m \u001b[39mreturn\u001b[39;00m np\u001b[39m.\u001b[39;49masarray(array)\u001b[39m.\u001b[39mflat[:n_desired]\n",
      "File \u001b[0;32m~/opt/anaconda3/envs/install/envs/pangeo-forge-recipes/lib/python3.9/site-packages/xarray/core/indexing.py:464\u001b[0m, in \u001b[0;36mImplicitToExplicitIndexingAdapter.__array__\u001b[0;34m(self, dtype)\u001b[0m\n\u001b[1;32m    463\u001b[0m \u001b[39mdef\u001b[39;00m \u001b[39m__array__\u001b[39m(\u001b[39mself\u001b[39m, dtype\u001b[39m=\u001b[39m\u001b[39mNone\u001b[39;00m):\n\u001b[0;32m--> 464\u001b[0m     \u001b[39mreturn\u001b[39;00m np\u001b[39m.\u001b[39;49masarray(\u001b[39mself\u001b[39;49m\u001b[39m.\u001b[39;49marray, dtype\u001b[39m=\u001b[39;49mdtype)\n",
      "File \u001b[0;32m~/opt/anaconda3/envs/install/envs/pangeo-forge-recipes/lib/python3.9/site-packages/xarray/core/indexing.py:529\u001b[0m, in \u001b[0;36mLazilyIndexedArray.__array__\u001b[0;34m(self, dtype)\u001b[0m\n\u001b[1;32m    527\u001b[0m \u001b[39mdef\u001b[39;00m \u001b[39m__array__\u001b[39m(\u001b[39mself\u001b[39m, dtype\u001b[39m=\u001b[39m\u001b[39mNone\u001b[39;00m):\n\u001b[1;32m    528\u001b[0m     array \u001b[39m=\u001b[39m as_indexable(\u001b[39mself\u001b[39m\u001b[39m.\u001b[39marray)\n\u001b[0;32m--> 529\u001b[0m     \u001b[39mreturn\u001b[39;00m np\u001b[39m.\u001b[39masarray(array[\u001b[39mself\u001b[39;49m\u001b[39m.\u001b[39;49mkey], dtype\u001b[39m=\u001b[39m\u001b[39mNone\u001b[39;00m)\n",
      "File \u001b[0;32m~/opt/anaconda3/envs/install/envs/pangeo-forge-recipes/lib/python3.9/site-packages/xarray/backends/h5netcdf_.py:43\u001b[0m, in \u001b[0;36mH5NetCDFArrayWrapper.__getitem__\u001b[0;34m(self, key)\u001b[0m\n\u001b[1;32m     42\u001b[0m \u001b[39mdef\u001b[39;00m \u001b[39m__getitem__\u001b[39m(\u001b[39mself\u001b[39m, key):\n\u001b[0;32m---> 43\u001b[0m     \u001b[39mreturn\u001b[39;00m indexing\u001b[39m.\u001b[39;49mexplicit_indexing_adapter(\n\u001b[1;32m     44\u001b[0m         key, \u001b[39mself\u001b[39;49m\u001b[39m.\u001b[39;49mshape, indexing\u001b[39m.\u001b[39;49mIndexingSupport\u001b[39m.\u001b[39;49mOUTER_1VECTOR, \u001b[39mself\u001b[39;49m\u001b[39m.\u001b[39;49m_getitem\n\u001b[1;32m     45\u001b[0m     )\n",
      "File \u001b[0;32m~/opt/anaconda3/envs/install/envs/pangeo-forge-recipes/lib/python3.9/site-packages/xarray/core/indexing.py:820\u001b[0m, in \u001b[0;36mexplicit_indexing_adapter\u001b[0;34m(key, shape, indexing_support, raw_indexing_method)\u001b[0m\n\u001b[1;32m    798\u001b[0m \u001b[39m\u001b[39m\u001b[39m\"\"\"Support explicit indexing by delegating to a raw indexing method.\u001b[39;00m\n\u001b[1;32m    799\u001b[0m \n\u001b[1;32m    800\u001b[0m \u001b[39mOuter and/or vectorized indexers are supported by indexing a second time\u001b[39;00m\n\u001b[0;32m   (...)\u001b[0m\n\u001b[1;32m    817\u001b[0m \u001b[39mIndexing result, in the form of a duck numpy-array.\u001b[39;00m\n\u001b[1;32m    818\u001b[0m \u001b[39m\"\"\"\u001b[39;00m\n\u001b[1;32m    819\u001b[0m raw_key, numpy_indices \u001b[39m=\u001b[39m decompose_indexer(key, shape, indexing_support)\n\u001b[0;32m--> 820\u001b[0m result \u001b[39m=\u001b[39m raw_indexing_method(raw_key\u001b[39m.\u001b[39;49mtuple)\n\u001b[1;32m    821\u001b[0m \u001b[39mif\u001b[39;00m numpy_indices\u001b[39m.\u001b[39mtuple:\n\u001b[1;32m    822\u001b[0m     \u001b[39m# index the loaded np.ndarray\u001b[39;00m\n\u001b[1;32m    823\u001b[0m     result \u001b[39m=\u001b[39m NumpyIndexingAdapter(np\u001b[39m.\u001b[39masarray(result))[numpy_indices]\n",
      "File \u001b[0;32m~/opt/anaconda3/envs/install/envs/pangeo-forge-recipes/lib/python3.9/site-packages/xarray/backends/h5netcdf_.py:50\u001b[0m, in \u001b[0;36mH5NetCDFArrayWrapper._getitem\u001b[0;34m(self, key)\u001b[0m\n\u001b[1;32m     48\u001b[0m \u001b[39mwith\u001b[39;00m \u001b[39mself\u001b[39m\u001b[39m.\u001b[39mdatastore\u001b[39m.\u001b[39mlock:\n\u001b[1;32m     49\u001b[0m     array \u001b[39m=\u001b[39m \u001b[39mself\u001b[39m\u001b[39m.\u001b[39mget_array(needs_lock\u001b[39m=\u001b[39m\u001b[39mFalse\u001b[39;00m)\n\u001b[0;32m---> 50\u001b[0m     \u001b[39mreturn\u001b[39;00m array[key]\n",
      "File \u001b[0;32m~/opt/anaconda3/envs/install/envs/pangeo-forge-recipes/lib/python3.9/site-packages/h5netcdf/core.py:348\u001b[0m, in \u001b[0;36mBaseVariable.__getitem__\u001b[0;34m(self, key)\u001b[0m\n\u001b[1;32m    340\u001b[0m     fv \u001b[39m=\u001b[39m \u001b[39mself\u001b[39m\u001b[39m.\u001b[39mdtype\u001b[39m.\u001b[39mtype(\u001b[39mself\u001b[39m\u001b[39m.\u001b[39m_h5ds\u001b[39m.\u001b[39mfillvalue)\n\u001b[1;32m    341\u001b[0m     \u001b[39mreturn\u001b[39;00m np\u001b[39m.\u001b[39mpad(\n\u001b[1;32m    342\u001b[0m         \u001b[39mself\u001b[39m\u001b[39m.\u001b[39m_h5ds,\n\u001b[1;32m    343\u001b[0m         pad_width\u001b[39m=\u001b[39mpadding,\n\u001b[1;32m    344\u001b[0m         mode\u001b[39m=\u001b[39m\u001b[39m\"\u001b[39m\u001b[39mconstant\u001b[39m\u001b[39m\"\u001b[39m,\n\u001b[1;32m    345\u001b[0m         constant_values\u001b[39m=\u001b[39mfv,\n\u001b[1;32m    346\u001b[0m     )[key]\n\u001b[0;32m--> 348\u001b[0m \u001b[39mreturn\u001b[39;00m \u001b[39mself\u001b[39;49m\u001b[39m.\u001b[39;49m_h5ds[key]\n",
      "File \u001b[0;32mh5py/_objects.pyx:54\u001b[0m, in \u001b[0;36mh5py._objects.with_phil.wrapper\u001b[0;34m()\u001b[0m\n",
      "File \u001b[0;32mh5py/_objects.pyx:55\u001b[0m, in \u001b[0;36mh5py._objects.with_phil.wrapper\u001b[0;34m()\u001b[0m\n",
      "File \u001b[0;32m~/opt/anaconda3/envs/install/envs/pangeo-forge-recipes/lib/python3.9/site-packages/h5py/_hl/dataset.py:768\u001b[0m, in \u001b[0;36mDataset.__getitem__\u001b[0;34m(self, args, new_dtype)\u001b[0m\n\u001b[1;32m    766\u001b[0m \u001b[39mif\u001b[39;00m \u001b[39mself\u001b[39m\u001b[39m.\u001b[39m_fast_read_ok \u001b[39mand\u001b[39;00m (new_dtype \u001b[39mis\u001b[39;00m \u001b[39mNone\u001b[39;00m):\n\u001b[1;32m    767\u001b[0m     \u001b[39mtry\u001b[39;00m:\n\u001b[0;32m--> 768\u001b[0m         \u001b[39mreturn\u001b[39;00m \u001b[39mself\u001b[39;49m\u001b[39m.\u001b[39;49m_fast_reader\u001b[39m.\u001b[39;49mread(args)\n\u001b[1;32m    769\u001b[0m     \u001b[39mexcept\u001b[39;00m \u001b[39mTypeError\u001b[39;00m:\n\u001b[1;32m    770\u001b[0m         \u001b[39mpass\u001b[39;00m  \u001b[39m# Fall back to Python read pathway below\u001b[39;00m\n",
      "File \u001b[0;32mh5py/_selector.pyx:376\u001b[0m, in \u001b[0;36mh5py._selector.Reader.read\u001b[0;34m()\u001b[0m\n",
      "File \u001b[0;32mh5py/h5fd.pyx:163\u001b[0m, in \u001b[0;36mh5py.h5fd.H5FD_fileobj_read\u001b[0;34m()\u001b[0m\n",
      "File \u001b[0;32m~/opt/anaconda3/envs/install/envs/pangeo-forge-recipes/lib/python3.9/site-packages/fsspec/spec.py:1710\u001b[0m, in \u001b[0;36mAbstractBufferedFile.readinto\u001b[0;34m(self, b)\u001b[0m\n\u001b[1;32m   1705\u001b[0m \u001b[39m\u001b[39m\u001b[39m\"\"\"mirrors builtin file's readinto method\u001b[39;00m\n\u001b[1;32m   1706\u001b[0m \n\u001b[1;32m   1707\u001b[0m \u001b[39mhttps://docs.python.org/3/library/io.html#io.RawIOBase.readinto\u001b[39;00m\n\u001b[1;32m   1708\u001b[0m \u001b[39m\"\"\"\u001b[39;00m\n\u001b[1;32m   1709\u001b[0m out \u001b[39m=\u001b[39m \u001b[39mmemoryview\u001b[39m(b)\u001b[39m.\u001b[39mcast(\u001b[39m\"\u001b[39m\u001b[39mB\u001b[39m\u001b[39m\"\u001b[39m)\n\u001b[0;32m-> 1710\u001b[0m data \u001b[39m=\u001b[39m \u001b[39mself\u001b[39;49m\u001b[39m.\u001b[39;49mread(out\u001b[39m.\u001b[39;49mnbytes)\n\u001b[1;32m   1711\u001b[0m out[: \u001b[39mlen\u001b[39m(data)] \u001b[39m=\u001b[39m data\n\u001b[1;32m   1712\u001b[0m \u001b[39mreturn\u001b[39;00m \u001b[39mlen\u001b[39m(data)\n",
      "File \u001b[0;32m~/opt/anaconda3/envs/install/envs/pangeo-forge-recipes/lib/python3.9/site-packages/fsspec/spec.py:1700\u001b[0m, in \u001b[0;36mAbstractBufferedFile.read\u001b[0;34m(self, length)\u001b[0m\n\u001b[1;32m   1697\u001b[0m \u001b[39mif\u001b[39;00m length \u001b[39m==\u001b[39m \u001b[39m0\u001b[39m:\n\u001b[1;32m   1698\u001b[0m     \u001b[39m# don't even bother calling fetch\u001b[39;00m\n\u001b[1;32m   1699\u001b[0m     \u001b[39mreturn\u001b[39;00m \u001b[39mb\u001b[39m\u001b[39m\"\u001b[39m\u001b[39m\"\u001b[39m\n\u001b[0;32m-> 1700\u001b[0m out \u001b[39m=\u001b[39m \u001b[39mself\u001b[39;49m\u001b[39m.\u001b[39;49mcache\u001b[39m.\u001b[39;49m_fetch(\u001b[39mself\u001b[39;49m\u001b[39m.\u001b[39;49mloc, \u001b[39mself\u001b[39;49m\u001b[39m.\u001b[39;49mloc \u001b[39m+\u001b[39;49m length)\n\u001b[1;32m   1701\u001b[0m \u001b[39mself\u001b[39m\u001b[39m.\u001b[39mloc \u001b[39m+\u001b[39m\u001b[39m=\u001b[39m \u001b[39mlen\u001b[39m(out)\n\u001b[1;32m   1702\u001b[0m \u001b[39mreturn\u001b[39;00m out\n",
      "File \u001b[0;32m~/opt/anaconda3/envs/install/envs/pangeo-forge-recipes/lib/python3.9/site-packages/fsspec/caching.py:157\u001b[0m, in \u001b[0;36mReadAheadCache._fetch\u001b[0;34m(self, start, end)\u001b[0m\n\u001b[1;32m    155\u001b[0m     part \u001b[39m=\u001b[39m \u001b[39mb\u001b[39m\u001b[39m\"\u001b[39m\u001b[39m\"\u001b[39m\n\u001b[1;32m    156\u001b[0m end \u001b[39m=\u001b[39m \u001b[39mmin\u001b[39m(\u001b[39mself\u001b[39m\u001b[39m.\u001b[39msize, end \u001b[39m+\u001b[39m \u001b[39mself\u001b[39m\u001b[39m.\u001b[39mblocksize)\n\u001b[0;32m--> 157\u001b[0m \u001b[39mself\u001b[39m\u001b[39m.\u001b[39mcache \u001b[39m=\u001b[39m \u001b[39mself\u001b[39;49m\u001b[39m.\u001b[39;49mfetcher(start, end)  \u001b[39m# new block replaces old\u001b[39;00m\n\u001b[1;32m    158\u001b[0m \u001b[39mself\u001b[39m\u001b[39m.\u001b[39mstart \u001b[39m=\u001b[39m start\n\u001b[1;32m    159\u001b[0m \u001b[39mself\u001b[39m\u001b[39m.\u001b[39mend \u001b[39m=\u001b[39m \u001b[39mself\u001b[39m\u001b[39m.\u001b[39mstart \u001b[39m+\u001b[39m \u001b[39mlen\u001b[39m(\u001b[39mself\u001b[39m\u001b[39m.\u001b[39mcache)\n",
      "File \u001b[0;32m~/opt/anaconda3/envs/install/envs/pangeo-forge-recipes/lib/python3.9/site-packages/s3fs/core.py:2150\u001b[0m, in \u001b[0;36mS3File._fetch_range\u001b[0;34m(self, start, end)\u001b[0m\n\u001b[1;32m   2148\u001b[0m \u001b[39mdef\u001b[39;00m \u001b[39m_fetch_range\u001b[39m(\u001b[39mself\u001b[39m, start, end):\n\u001b[1;32m   2149\u001b[0m     \u001b[39mtry\u001b[39;00m:\n\u001b[0;32m-> 2150\u001b[0m         \u001b[39mreturn\u001b[39;00m _fetch_range(\n\u001b[1;32m   2151\u001b[0m             \u001b[39mself\u001b[39;49m\u001b[39m.\u001b[39;49mfs,\n\u001b[1;32m   2152\u001b[0m             \u001b[39mself\u001b[39;49m\u001b[39m.\u001b[39;49mbucket,\n\u001b[1;32m   2153\u001b[0m             \u001b[39mself\u001b[39;49m\u001b[39m.\u001b[39;49mkey,\n\u001b[1;32m   2154\u001b[0m             \u001b[39mself\u001b[39;49m\u001b[39m.\u001b[39;49mversion_id,\n\u001b[1;32m   2155\u001b[0m             start,\n\u001b[1;32m   2156\u001b[0m             end,\n\u001b[1;32m   2157\u001b[0m             req_kw\u001b[39m=\u001b[39;49m\u001b[39mself\u001b[39;49m\u001b[39m.\u001b[39;49mreq_kw,\n\u001b[1;32m   2158\u001b[0m         )\n\u001b[1;32m   2160\u001b[0m     \u001b[39mexcept\u001b[39;00m \u001b[39mOSError\u001b[39;00m \u001b[39mas\u001b[39;00m ex:\n\u001b[1;32m   2161\u001b[0m         \u001b[39mif\u001b[39;00m ex\u001b[39m.\u001b[39margs[\u001b[39m0\u001b[39m] \u001b[39m==\u001b[39m errno\u001b[39m.\u001b[39mEINVAL \u001b[39mand\u001b[39;00m \u001b[39m\"\u001b[39m\u001b[39mpre-conditions\u001b[39m\u001b[39m\"\u001b[39m \u001b[39min\u001b[39;00m ex\u001b[39m.\u001b[39margs[\u001b[39m1\u001b[39m]:\n",
      "File \u001b[0;32m~/opt/anaconda3/envs/install/envs/pangeo-forge-recipes/lib/python3.9/site-packages/s3fs/core.py:2293\u001b[0m, in \u001b[0;36m_fetch_range\u001b[0;34m(fs, bucket, key, version_id, start, end, req_kw)\u001b[0m\n\u001b[1;32m   2291\u001b[0m     \u001b[39mreturn\u001b[39;00m \u001b[39mb\u001b[39m\u001b[39m\"\u001b[39m\u001b[39m\"\u001b[39m\n\u001b[1;32m   2292\u001b[0m logger\u001b[39m.\u001b[39mdebug(\u001b[39m\"\u001b[39m\u001b[39mFetch: \u001b[39m\u001b[39m%s\u001b[39;00m\u001b[39m/\u001b[39m\u001b[39m%s\u001b[39;00m\u001b[39m, \u001b[39m\u001b[39m%s\u001b[39;00m\u001b[39m-\u001b[39m\u001b[39m%s\u001b[39;00m\u001b[39m\"\u001b[39m, bucket, key, start, end)\n\u001b[0;32m-> 2293\u001b[0m \u001b[39mreturn\u001b[39;00m sync(fs\u001b[39m.\u001b[39;49mloop, _inner_fetch, fs, bucket, key, version_id, start, end, req_kw)\n",
      "File \u001b[0;32m~/opt/anaconda3/envs/install/envs/pangeo-forge-recipes/lib/python3.9/site-packages/fsspec/asyn.py:88\u001b[0m, in \u001b[0;36msync\u001b[0;34m(loop, func, timeout, *args, **kwargs)\u001b[0m\n\u001b[1;32m     85\u001b[0m asyncio\u001b[39m.\u001b[39mrun_coroutine_threadsafe(_runner(event, coro, result, timeout), loop)\n\u001b[1;32m     86\u001b[0m \u001b[39mwhile\u001b[39;00m \u001b[39mTrue\u001b[39;00m:\n\u001b[1;32m     87\u001b[0m     \u001b[39m# this loops allows thread to get interrupted\u001b[39;00m\n\u001b[0;32m---> 88\u001b[0m     \u001b[39mif\u001b[39;00m event\u001b[39m.\u001b[39;49mwait(\u001b[39m1\u001b[39;49m):\n\u001b[1;32m     89\u001b[0m         \u001b[39mbreak\u001b[39;00m\n\u001b[1;32m     90\u001b[0m     \u001b[39mif\u001b[39;00m timeout \u001b[39mis\u001b[39;00m \u001b[39mnot\u001b[39;00m \u001b[39mNone\u001b[39;00m:\n",
      "File \u001b[0;32m~/opt/anaconda3/envs/install/envs/pangeo-forge-recipes/lib/python3.9/threading.py:581\u001b[0m, in \u001b[0;36mEvent.wait\u001b[0;34m(self, timeout)\u001b[0m\n\u001b[1;32m    579\u001b[0m signaled \u001b[39m=\u001b[39m \u001b[39mself\u001b[39m\u001b[39m.\u001b[39m_flag\n\u001b[1;32m    580\u001b[0m \u001b[39mif\u001b[39;00m \u001b[39mnot\u001b[39;00m signaled:\n\u001b[0;32m--> 581\u001b[0m     signaled \u001b[39m=\u001b[39m \u001b[39mself\u001b[39;49m\u001b[39m.\u001b[39;49m_cond\u001b[39m.\u001b[39;49mwait(timeout)\n\u001b[1;32m    582\u001b[0m \u001b[39mreturn\u001b[39;00m signaled\n",
      "File \u001b[0;32m~/opt/anaconda3/envs/install/envs/pangeo-forge-recipes/lib/python3.9/threading.py:316\u001b[0m, in \u001b[0;36mCondition.wait\u001b[0;34m(self, timeout)\u001b[0m\n\u001b[1;32m    314\u001b[0m \u001b[39melse\u001b[39;00m:\n\u001b[1;32m    315\u001b[0m     \u001b[39mif\u001b[39;00m timeout \u001b[39m>\u001b[39m \u001b[39m0\u001b[39m:\n\u001b[0;32m--> 316\u001b[0m         gotit \u001b[39m=\u001b[39m waiter\u001b[39m.\u001b[39;49macquire(\u001b[39mTrue\u001b[39;49;00m, timeout)\n\u001b[1;32m    317\u001b[0m     \u001b[39melse\u001b[39;00m:\n\u001b[1;32m    318\u001b[0m         gotit \u001b[39m=\u001b[39m waiter\u001b[39m.\u001b[39macquire(\u001b[39mFalse\u001b[39;00m)\n",
      "\u001b[0;31mKeyboardInterrupt\u001b[0m: "
     ]
    }
   ],
   "source": [
    "%%time\n",
    "ds_orig = xr.open_dataset(fs.open(all_paths[0]), engine='h5netcdf', chunks={}, decode_coords='all')\n",
    "ds_orig"
   ]
  },
  {
   "cell_type": "markdown",
   "id": "2de47e7f-5196-4b98-b05d-f281cb2eb056",
   "metadata": {},
   "source": [
    "It took ~30 seconds to open this one dataset. So it would take 7-8 minutes for us to open every file. This would be annoyingly slow.\n",
    "\n",
    "As a first step in our recipe, we create a `File Pattern <../../recipe_user_guide/file_patterns>` to represent the input files.\n",
    "In this case, since we already have a list of inputs, we just use the `pattern_from_file_sequence` convenience function."
   ]
  },
  {
   "cell_type": "code",
   "execution_count": null,
   "id": "8c3a47bf",
   "metadata": {},
   "outputs": [],
   "source": [
    "from pangeo_forge_recipes.patterns import pattern_from_file_sequence\n",
    "pattern = pattern_from_file_sequence(['s3://' + path for path in all_paths], 'time')\n",
    "pattern"
   ]
  },
  {
   "cell_type": "code",
   "execution_count": null,
   "id": "b061b31f",
   "metadata": {},
   "outputs": [],
   "source": [
    "all_paths"
   ]
  },
  {
   "attachments": {},
   "cell_type": "markdown",
   "id": "8fa5d0a3-fdee-4072-a621-b905427cd616",
   "metadata": {},
   "source": [
    "## Write the Recipe\n",
    "\n",
    "Once we have our `FilePattern`, describing our input file paths, we can construct out `beam` pipeline. A beam pipeline is a chained together list of (Apache Beam transformations)[https://beam.apache.org/documentation/programming-guide/#transforms].\n"
   ]
  },
  {
   "attachments": {},
   "cell_type": "markdown",
   "id": "3a443948",
   "metadata": {},
   "source": [
    "### Specify where our target data should be written\n",
    "Here, we are creating a temporary directory to store the written reference files. If we wanted these reference files to persist locally, we would want to specify another file path. \n"
   ]
  },
  {
   "cell_type": "code",
   "execution_count": null,
   "id": "41f8bdab",
   "metadata": {},
   "outputs": [],
   "source": [
    "import os\n",
    "from tempfile import TemporaryDirectory\n",
    "td = TemporaryDirectory()\n",
    "target_root = td.name\n",
    "store_name = \"output.json\"\n",
    "target_store = os.path.join(target_root, store_name)"
   ]
  },
  {
   "attachments": {},
   "cell_type": "markdown",
   "id": "6b9d27c7",
   "metadata": {},
   "source": [
    "## Construct a Pipeline\n",
    "Next, we will construct a beam pipeline. This should look similar to the other standard Zarr examples, but will involve a few different transforms. "
   ]
  },
  {
   "cell_type": "code",
   "execution_count": null,
   "id": "edebe82b",
   "metadata": {},
   "outputs": [],
   "source": [
    "import apache_beam as beam\n",
    "from pangeo_forge_recipes.transforms import OpenURLWithFSSpec, OpenWithKerchunk, DropKeys, CombineReferences, WriteCombinedReference\n",
    "\n",
    "store_name = \"cmip6_reference\"\n",
    "output_json_fname = \"reference.json\"\n",
    "transforms = (\n",
    "        # Create a beam PCollection from our input file pattern\n",
    "        beam.Create(pattern.items())\n",
    "        # Pass out file inputs to fsspec\n",
    "        | OpenURLWithFSSpec(open_kwargs={'anon':True})\n",
    "        # Pass our fsspec-opened files to Kerchunk to create references for each file\n",
    "        | OpenWithKerchunk(file_type=pattern.file_type)\n",
    "        # Minor transform (REQUIRED) to drop keys from the PCollection prior to combining\n",
    "        | DropKeys()\n",
    "        # Use Kerchunk's `MultiZarrToZarr` functionality to combine the reference files into a single reference file\n",
    "        # Note: Setting the correct contact_dims and identical_dims is important. \n",
    "        | CombineReferences(concat_dims=[\"time\"], \n",
    "                            identical_dims=[\"lat\", \"lat_bnds\", \"lon\", \"lon_bnds\", \"lev_bnds\", \"lev\"],\n",
    "                            mzz_kwargs = {\"remote_protocol\": \"s3\"} )\n",
    "        # Write the combined Kerchunk reference to file storage\n",
    "        | WriteCombinedReference(\n",
    "            target_root=target_root,\n",
    "            store_name=store_name,\n",
    "            output_json_fname=output_json_fname,\n",
    "        )\n",
    "    )"
   ]
  },
  {
   "attachments": {},
   "cell_type": "markdown",
   "id": "5a1e6228",
   "metadata": {},
   "source": [
    "## Execute the Recipe"
   ]
  },
  {
   "cell_type": "code",
   "execution_count": null,
   "id": "b0a08c82",
   "metadata": {},
   "outputs": [],
   "source": [
    "with beam.Pipeline() as p:\n",
    "    p | transforms"
   ]
  },
  {
   "attachments": {},
   "cell_type": "markdown",
   "id": "300f5b49-4b3c-4dc5-8519-63485456af94",
   "metadata": {},
   "source": [
    "## Examine the Result\n",
    "\n",
    "Here we are creating an fsspec mapper of the reference file and then passing it to Xarray's `open_dataset` to be read as if it were a Zarr store."
   ]
  },
  {
   "cell_type": "code",
   "execution_count": null,
   "id": "01d262ac",
   "metadata": {},
   "outputs": [],
   "source": [
    "import fsspec \n",
    "import xarray as xr\n",
    "full_path = os.path.join(target_root, store_name, output_json_fname)\n",
    "mapper = fsspec.get_mapper(\"reference://\", fo=full_path, remote_protocol=\"s3\",)\n",
    "ds = xr.open_dataset(mapper, engine=\"zarr\", decode_coords='all', backend_kwargs={\"consolidated\": False})\n"
   ]
  },
  {
   "attachments": {},
   "cell_type": "markdown",
   "id": "206619cc",
   "metadata": {},
   "source": [
    "## Make a Map"
   ]
  },
  {
   "cell_type": "code",
   "execution_count": null,
   "id": "4f95c115-3cff-4454-83fd-8d9b89a77560",
   "metadata": {},
   "outputs": [],
   "source": [
    "ds_ann = ds.resample(time='A').mean()\n",
    "sst_diff = ds_ann.thetao.isel(time=-1, lev=0) - ds_ann.thetao.isel(time=0, lev=0)\n",
    "sst_diff.plot()"
   ]
  }
 ],
 "metadata": {
  "execution": {
   "allow_errors": false,
   "timeout": 3000
  },
  "kernelspec": {
   "display_name": "Python 3 (ipykernel)",
   "language": "python",
   "name": "python3"
  },
  "language_info": {
   "codemirror_mode": {
    "name": "ipython",
    "version": 3
   },
   "file_extension": ".py",
   "mimetype": "text/x-python",
   "name": "python",
   "nbconvert_exporter": "python",
   "pygments_lexer": "ipython3",
   "version": "3.9.15"
  }
 },
 "nbformat": 4,
 "nbformat_minor": 5
}
